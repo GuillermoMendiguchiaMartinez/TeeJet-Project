{
 "cells": [
  {
   "cell_type": "code",
   "execution_count": 15,
   "metadata": {
    "scrolled": false
   },
   "outputs": [
    {
     "data": {
      "application/vnd.jupyter.widget-view+json": {
       "model_id": "9b08b3599c4a45399d82fbfb15f07680",
       "version_major": 2,
       "version_minor": 0
      },
      "text/plain": [
       "Map(basemap={'url': 'https://{s}.tile.openstreetmap.org/{z}/{x}/{y}.png', 'max_zoom': 19, 'attribution': 'Map …"
      ]
     },
     "metadata": {},
     "output_type": "display_data"
    },
    {
     "name": "stdout",
     "output_type": "stream",
     "text": [
      "[[9.819082, 57.131619], [9.822378, 57.077918], [9.908072, 57.106568], [9.819082, 57.131619]]\n",
      "Point 0 =  9.908072\n",
      "Ref_Point 0 =  9.819082\n",
      "Point 1 =  57.077918\n",
      "Ref_Point 1 =  57.131619\n",
      "Point 1 - Ref_Point 1 =  -0.053701000000003773\n",
      "Global2Local =  (5380.16622915858, 5977.9654861115305)\n",
      "Number of grids in X =  649.4435139128179\n",
      "Number of grids in Y =  721.6042675984365\n",
      "Total number of grids =  468641.211203614\n",
      "Point 0 =  9.819082\n",
      "Ref_Point 0 =  9.819082\n",
      "Point 1 =  57.131619\n",
      "Ref_Point 1 =  57.131619\n",
      "Point 1 - Ref_Point 1 =  0.0\n",
      "Point 0 =  9.822378\n",
      "Ref_Point 0 =  9.819082\n",
      "Point 1 =  57.077918\n",
      "Ref_Point 1 =  57.131619\n",
      "Point 1 - Ref_Point 1 =  -0.053701000000003773\n",
      "Point 0 =  9.908072\n",
      "Ref_Point 0 =  9.819082\n",
      "Point 1 =  57.106568\n",
      "Ref_Point 1 =  57.131619\n",
      "Point 1 - Ref_Point 1 =  -0.025050999999997714\n",
      "Point 0 =  9.819082\n",
      "Ref_Point 0 =  9.819082\n",
      "Point 1 =  57.131619\n",
      "Ref_Point 1 =  57.131619\n",
      "Point 1 - Ref_Point 1 =  0.0\n",
      "[[[   0    0]]\n",
      "\n",
      " [[ 200 5978]]\n",
      "\n",
      " [[5379 2789]]\n",
      "\n",
      " [[   0    0]]]\n"
     ]
    },
    {
     "data": {
      "image/png": "[encoded data removed]",
      "text/plain": [
       "<Figure size 432x288 with 1 Axes>"
      ]
     },
     "metadata": {
      "needs_background": "light"
     },
     "output_type": "display_data"
    }
   ],
   "source": [
    "from ipyleaflet import *\n",
    "from ipywidgets import Layout\n",
    "import geojson\n",
    "import math\n",
    "import numpy as np\n",
    "import cv2\n",
    "import matplotlib.pyplot as plt\n",
    "\n",
    "\n",
    "url = \"https://api.mapbox.com/styles/v1/bedaberner/ck1dsr3tg1oq11cqp1zw2oilc/tiles/256/{z}/{x}/{y}@2x?access_token=pk.eyJ1IjoiYmVkYWJlcm5lciIsImEiOiJjazFkc3BheTEwYXhtM2NxcHY3c2k2MTl1In0.G5Pr0yi-ssOvkm-KO1aEAw\"\n",
    "provider = TileLayer(url=url, opacity=1)\n",
    "defaultLayout=Layout(width='840px', height='840px')\n",
    "m = Map(layers=(provider,),center=[57.0488, 9.9217], zoom=10, layout=defaultLayout,)\n",
    "\n",
    "draw_control = DrawControl()\n",
    "draw_control.polygon = {\n",
    "    \"shapeOptions\": {\n",
    "        \"fillColor\": \"#6be5c3\",\n",
    "        \"color\": \"#6be5c3\",\n",
    "        \"fillOpacity\": 0.5\n",
    "    },\n",
    "    \"drawError\": {\n",
    "        \"color\": \"#dd253b\",\n",
    "        \"message\": \"Oups!\"\n",
    "    },\n",
    "    \"allowIntersection\": False\n",
    "}\n",
    "\n",
    "def global2local(point, ref_point):\n",
    "    c_earth = 40075000\n",
    "    print('Point 0 = ',point[0])\n",
    "    print('Ref_Point 0 = ',ref_point[0])\n",
    "    print('Point 1 = ',point[1])\n",
    "    print('Ref_Point 1 = ',ref_point[1])\n",
    "    print('Point 1 - Ref_Point 1 = ',point[1]-ref_point[1])\n",
    "    \n",
    "    dlat = ref_point[1] - point[1]\n",
    "    dlon = point[0] - ref_point[0]\n",
    "    \n",
    "    dx = dlon * c_earth * math.cos((ref_point[1]+point[1]) * math.pi/360)/360\n",
    "    dy = dlat * c_earth / 360\n",
    "    return dx,dy\n",
    "def create_waypoints(coordinates,cam_fov_deg,height,overlap):\n",
    "    cam_fov = math.radians(cam_fov_deg/2)\n",
    "    lat_max = coordinates[0][1]\n",
    "    lat_min = coordinates[0][1]\n",
    "    lon_max = coordinates[0][0]\n",
    "    lon_min = coordinates[0][0]\n",
    "    \n",
    "    for coordinate in coordinates:\n",
    "        if coordinate[0] > lon_max:\n",
    "            lon_max = coordinate[0]\n",
    "            \n",
    "        elif coordinate[0] < lon_min:\n",
    "            lon_min = coordinate[0]\n",
    "            \n",
    "        if coordinate[1] > lat_max:\n",
    "            lat_max = coordinate[1]\n",
    "            \n",
    "        elif coordinate[1] < lat_min:\n",
    "            lat_min = coordinate[1]\n",
    "    \n",
    "    dlat = lat_max - lat_min\n",
    "    dlon = lon_max - lon_min\n",
    "    \n",
    "    c_earth = 40075000\n",
    "    \n",
    "    #dx = dlon * c_earth * math.cos((lat_max + lat_min) * math.pi/360)/360\n",
    "    #dy = dlat * c_earth / 360\n",
    "    \n",
    "    #print('dx = ',dx)\n",
    "    #print('dy = ',dy)\n",
    "    Global2local = global2local((lon_max,lat_min),(lon_min,lat_max))\n",
    "    dx = Global2local[0]\n",
    "    dy = Global2local[1]\n",
    "    print('Global2Local = ',Global2local)\n",
    "        \n",
    "    cell_size_x = math.tan(cam_fov)*height*overlap\n",
    "    cell_size_y = math.tan(cam_fov)*height*overlap\n",
    "    \n",
    "    n_grids_x = dx/cell_size_x\n",
    "    n_grids_y = dy/cell_size_y\n",
    "    \n",
    "    print('Number of grids in X = ',n_grids_x)\n",
    "    print('Number of grids in Y = ',n_grids_y)\n",
    "    \n",
    "    n_grids_total = n_grids_x * n_grids_y\n",
    "    print('Total number of grids = ',n_grids_total)\n",
    "    \n",
    "    map_array=np.zeros((math.ceil(dy),math.ceil(dx)))\n",
    "    \n",
    "    coordinates_rel=[]\n",
    "    ref_point=(lon_min,lat_max)\n",
    "    \n",
    "    for coordinate in coordinates:\n",
    "        coordinates_rel.append(np.ceil(global2local(coordinate,ref_point)).astype('int'))\n",
    "        \n",
    "    coord_rel_np=np.array(coordinates_rel) \n",
    "    \n",
    "    pts=coord_rel_np.reshape((-1,1,2)) \n",
    "    print(pts)\n",
    "        \n",
    "    cv2.fillPoly(map_array,[pts],1)\n",
    "    plt.imshow(map_array,cmap='gray')\n",
    "    plt.show\n",
    "    \n",
    "    \n",
    "        \n",
    "        \n",
    "    \n",
    "    \n",
    "    \n",
    "\n",
    "def handle_draw(self, action, geo_json):\n",
    "    print(geo_json['geometry']['coordinates'][0])\n",
    "\n",
    "    f = open(\"field.geojson\", \"w\")\n",
    "\n",
    "    create_waypoints(geo_json['geometry']['coordinates'][0],45,40,0.5)\n",
    "    f.write(geojson.dumps(geo_json))\n",
    "    f.close()\n",
    "\n",
    "draw_control.on_draw(handle_draw)\n",
    "\n",
    "m.add_control(draw_control)\n",
    "\n",
    "m"
   ]
  },
  {
   "cell_type": "code",
   "execution_count": 2,
   "metadata": {},
   "outputs": [
    {
     "name": "stdout",
     "output_type": "stream",
     "text": [
      "[[[10  5]]\n",
      "\n",
      " [[20 30]]\n",
      "\n",
      " [[70 20]]\n",
      "\n",
      " [[50 10]]]\n"
     ]
    }
   ],
   "source": [
    "\"\"\"\n",
    "pts = np.array([[10,5],[20,30],[70,20],[50,10]])\n",
    "pts = pts.reshape((-1,1,2))\n",
    "print(pts)\"\"\""
   ]
  },
  {
   "cell_type": "code",
   "execution_count": 11,
   "metadata": {
    "pycharm": {
     "name": "#%%\n"
    }
   },
   "outputs": [
    {
     "name": "stdout",
     "output_type": "stream",
     "text": [
      "[[0. 0. 0. 0. 0.]\n",
      " [1. 1. 0. 0. 0.]\n",
      " [1. 1. 1. 1. 0.]\n",
      " [1. 1. 1. 1. 1.]\n",
      " [1. 1. 1. 0. 0.]]\n"
     ]
    }
   ],
   "source": [
    "\"\"\"\n",
    "pts = np.array([[0,1],[0,4],[4,3]],)\n",
    "pts = pts.reshape((-1,1,2))\n",
    "\n",
    "a=np.zeros((5,5))\n",
    "cv2.fillPoly(a,[pts],1)\n",
    "print(a)\n",
    "\"\"\"\n"
   ]
  }
 ],
 "metadata": {
  "kernelspec": {
   "display_name": "Python 3",
   "language": "python",
   "name": "python3"
  },
  "language_info": {
   "codemirror_mode": {
    "name": "ipython",
    "version": 3
   },
   "file_extension": ".py",
   "mimetype": "text/x-python",
   "name": "python",
   "nbconvert_exporter": "python",
   "pygments_lexer": "ipython3",
   "version": "3.7.4"
  },
  "pycharm": {
   "stem_cell": {
    "cell_type": "raw",
    "source": [],
    "metadata": {
     "collapsed": false
    }
   }
  }
 },
 "nbformat": 4,
 "nbformat_minor": 4
}