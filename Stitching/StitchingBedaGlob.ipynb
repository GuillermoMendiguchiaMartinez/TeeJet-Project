{
 "cells": [
  {
   "cell_type": "code",
   "execution_count": 1,
   "metadata": {
    "pycharm": {
     "is_executing": false
    }
   },
   "outputs": [],
   "source": [
    "import cv2\n",
    "import numpy as np\n",
    "import matplotlib.pyplot as plt\n",
    "from random import randrange\n",
    "import sys\n",
    "import glob\n",
    "import math\n",
    "import os\n",
    "import time\n",
    "from Stitching.functions import *\n",
    "MAX_MATCHES=30000\n",
    "sys.setrecursionlimit(20000)\n"
   ]
  },
  {
   "cell_type": "code",
   "execution_count": 2,
   "metadata": {
    "scrolled": true,
    "pycharm": {
     "is_executing": false
    }
   },
   "outputs": [],
   "source": [
    "img_dir = r\"C:\\Users\\bedab\\OneDrive\\AAU\\TeeJet-Project\\Stitching\\m4\" # Enter Directory of all images \n",
    "data_path = os.path.join(img_dir,'*g')\n",
    "files = glob.glob(data_path)\n",
    "data = []\n",
    "list_of_lists_of_images = []\n",
    "#parameters read out from opendronemap\n",
    "intrinsic=np.array([[3968*0.638904348949862, 0, 2048 ],[0,2976*0.638904348949862,  1536],[0, 0, 1]])\n",
    "distCoeffs=np.array([0.06756436352714615,-0.09146430991012529,0,0])\n",
    "\n",
    "for f1 in files:\n",
    "    img1 = cv2.imread(f1)\n",
    "    cv2.cvtColor(img1,cv2.COLOR_BGR2RGB)\n",
    "    img1=cv2.undistort(img1,intrinsic,distCoeffs)[200:-200,200:-200,:]\n",
    "    data.append(img1)\n",
    "\n",
    "w = 3\n",
    "t = len(data)\n",
    "\n",
    "for i in range(0, t//w):\n",
    "    row = data[i*w:(i+1)*w]\n",
    "    list_of_lists_of_images.append(row)\n",
    "\n",
    "if t%w != 0:\n",
    "    i=i+1\n",
    "    row = data[i*w:-1]\n",
    "    list_of_lists_of_images.append(row)\n",
    "    \n",
    "\n",
    "  "
   ]
  },
  {
   "cell_type": "code",
   "execution_count": 3,
   "metadata": {
    "pycharm": {
     "is_executing": false
    }
   },
   "outputs": [
    {
     "name": "stdout",
     "text": [
      "10000\n10001\n",
      "374\n",
      "10000\n10001\n",
      "71\n[array([[ 8.70201432e-01, -4.43369863e-01,  6.08347937e+02],\n       [ 4.14496345e-01,  9.16226089e-01,  3.59388544e+02],\n       [-1.55174201e-05, -2.90784830e-06,  1.00000000e+00]]), array([[ 9.71783204e-01, -3.09184583e-03,  1.09829007e+02],\n       [ 3.67703679e-03,  9.49182221e-01, -8.29240481e+02],\n       [-2.44048205e-06,  2.05645298e-06,  1.00000000e+00]])]\n"
     ],
     "output_type": "stream"
    }
   ],
   "source": [
    "homographys=[find_homography(list_of_lists_of_images[0][1],list_of_lists_of_images[1][1]),find_homography(list_of_lists_of_images[2][1],list_of_lists_of_images[1][1])]\n",
    "print(homographys)\n",
    "connections=[((0,1),(1,1)),((2,1),(1,1))]\n",
    "og_coordinate=(1,1)\n",
    "\n",
    "    \n",
    "#res=multiple(list_of_lists_of_images,homographys,connections,og_coordinate)"
   ]
  },
  {
   "cell_type": "code",
   "execution_count": 4,
   "metadata": {
    "pycharm": {
     "is_executing": false
    }
   },
   "outputs": [
    {
     "name": "stdout",
     "text": [
      "4525\n-1064\n4031\n-1714\n5745\n5589\nstart calculating closest image map\n0.018709421157836914\ngenerating the closest image map took 0 seconds\n",
      "(5589, 5745)\n5589\n5745\n"
     ],
     "output_type": "stream"
    },
    {
     "traceback": [
      "\u001b[1;31m---------------------------------------------------------------------------\u001b[0m",
      "\u001b[1;31mValueError\u001b[0m                                Traceback (most recent call last)",
      "\u001b[1;32m<ipython-input-4-9eb820625ab9>\u001b[0m in \u001b[0;36m<module>\u001b[1;34m\u001b[0m\n\u001b[0;32m     23\u001b[0m \u001b[1;33m\u001b[0m\u001b[0m\n\u001b[0;32m     24\u001b[0m \u001b[1;33m\u001b[0m\u001b[0m\n\u001b[1;32m---> 25\u001b[1;33m \u001b[0mres\u001b[0m\u001b[1;33m=\u001b[0m\u001b[0mmultiple_v2\u001b[0m\u001b[1;33m(\u001b[0m\u001b[0mlist_of_lists_of_images\u001b[0m\u001b[1;33m,\u001b[0m\u001b[0mconnections\u001b[0m\u001b[1;33m,\u001b[0m\u001b[0mhomographys\u001b[0m\u001b[1;33m,\u001b[0m \u001b[1;33m(\u001b[0m\u001b[1;36m1\u001b[0m\u001b[1;33m,\u001b[0m\u001b[1;36m1\u001b[0m\u001b[1;33m)\u001b[0m\u001b[1;33m)\u001b[0m\u001b[1;33m\u001b[0m\u001b[1;33m\u001b[0m\u001b[0m\n\u001b[0m\u001b[0;32m     26\u001b[0m \u001b[1;33m\u001b[0m\u001b[0m\n",
      "\u001b[1;32m~\\OneDrive\\AAU\\TeeJet-Project\\Stitching\\functions.py\u001b[0m in \u001b[0;36mmultiple_v2\u001b[1;34m(list_of_lists_of_images, connections, homographys, og_coordinate, margin)\u001b[0m\n\u001b[0;32m    201\u001b[0m \u001b[1;33m\u001b[0m\u001b[0m\n\u001b[0;32m    202\u001b[0m     center_img[offset_y:offset_y + h, offset_x:offset_x + w, :] = list_of_lists_of_images[og_coordinate[1]][\n\u001b[1;32m--> 203\u001b[1;33m         og_coordinate[0]]\n\u001b[0m\u001b[0;32m    204\u001b[0m     \u001b[0mcenter_gray\u001b[0m \u001b[1;33m=\u001b[0m \u001b[0mcv2\u001b[0m\u001b[1;33m.\u001b[0m\u001b[0mcvtColor\u001b[0m\u001b[1;33m(\u001b[0m\u001b[0mcenter_img\u001b[0m\u001b[1;33m,\u001b[0m \u001b[0mcv2\u001b[0m\u001b[1;33m.\u001b[0m\u001b[0mCOLOR_RGB2GRAY\u001b[0m\u001b[1;33m)\u001b[0m\u001b[1;33m\u001b[0m\u001b[1;33m\u001b[0m\u001b[0m\n\u001b[0;32m    205\u001b[0m     \u001b[0mresult\u001b[0m\u001b[1;33m[\u001b[0m\u001b[0mresult\u001b[0m \u001b[1;33m==\u001b[0m \u001b[1;36m0\u001b[0m\u001b[1;33m]\u001b[0m \u001b[1;33m=\u001b[0m \u001b[0mcenter_img\u001b[0m\u001b[1;33m[\u001b[0m\u001b[0mresult\u001b[0m \u001b[1;33m==\u001b[0m \u001b[1;36m0\u001b[0m\u001b[1;33m]\u001b[0m\u001b[1;33m\u001b[0m\u001b[1;33m\u001b[0m\u001b[0m\n",
      "\u001b[1;31mValueError\u001b[0m: could not broadcast input array from shape (2576,3568,3) into shape (2576,2873,3)"
     ],
     "ename": "ValueError",
     "evalue": "could not broadcast input array from shape (2576,3568,3) into shape (2576,2873,3)",
     "output_type": "error"
    },
    {
     "data": {
      "text/plain": "<Figure size 432x288 with 1 Axes>",
      "image/png": "[encoded data removed]"
     },
     "metadata": {
      "needs_background": "light"
     },
     "output_type": "display_data"
    }
   ],
   "source": [
    "#x_center_original_img=(og_coordinate[0]+0.5)*list_of_lists_of_images[0][0].shape[1]\n",
    "#y_center_original_img=(og_coordinate[0]+0.5)*list_of_lists_of_images[0][0].shape[0]\n",
    "#offset_y=og_coordinate[0]*list_of_lists_of_images[0][0].shape[0]\n",
    "#offset_x=og_coordinate[0]*list_of_lists_of_images[0][0].shape[1]\n",
    "\n",
    "#offset=np.array([[1, 0, offset_x],[0,1,offset_y],[0,0,1]])\n",
    "\n",
    "#img_centers=[]\n",
    "#for homography in homographys:\n",
    "    #center=apply_homography_to_point((offset_x*0.5,offset_y*0.5),np.matmul(offset,homography))\n",
    "    #img_centers.append(center)\n",
    "#img_centers.append((x_center_original_img,y_center_original_img))\n",
    "\n",
    "\n",
    "    \n",
    "    \n",
    "#w=list_of_lists_of_images[0][0].shape[1]\n",
    "#h=list_of_lists_of_images[0][0].shape[0]\n",
    "#closest_map=closest_image_map((len(list_of_lists_of_images)*h), len(list_of_lists_of_images[0])*w, img_centers, h, w,downscaling_factor=4)\n",
    "#for coordinate in img_centers:\n",
    "#    closest_map[int(coordinate[0])-100:int(coordinate[0])+100,int(coordinate[1])-100:int(coordinate[1])+100]=0\n",
    "#plt.imshow(closest_map)\n",
    "\n",
    "\n",
    "res=multiple_v2(list_of_lists_of_images,connections,homographys, (1,1))"
   ]
  },
  {
   "cell_type": "code",
   "execution_count": null,
   "metadata": {
    "pycharm": {
     "is_executing": false
    }
   },
   "outputs": [],
   "source": [
    "fig=plt.figure(figsize=(18, 16), dpi= 200, facecolor='w', edgecolor='k')  \n",
    "cv2.imwrite('res.jpg',res)\n",
    "plt.imshow(cv2.cvtColor(res,cv2.COLOR_BGR2RGB))"
   ]
  },
  {
   "cell_type": "code",
   "execution_count": null,
   "metadata": {
    "pycharm": {
     "is_executing": false
    }
   },
   "outputs": [],
   "source": []
  },
  {
   "cell_type": "code",
   "execution_count": null,
   "outputs": [],
   "source": [
    "\n"
   ],
   "metadata": {
    "collapsed": false,
    "pycharm": {
     "name": "#%%\n",
     "is_executing": false
    }
   }
  }
 ],
 "metadata": {
  "kernelspec": {
   "display_name": "Python 3",
   "language": "python",
   "name": "python3"
  },
  "language_info": {
   "codemirror_mode": {
    "name": "ipython",
    "version": 3
   },
   "file_extension": ".py",
   "mimetype": "text/x-python",
   "name": "python",
   "nbconvert_exporter": "python",
   "pygments_lexer": "ipython3",
   "version": "3.7.4"
  },
  "pycharm": {
   "stem_cell": {
    "cell_type": "raw",
    "source": [],
    "metadata": {
     "collapsed": false
    }
   }
  }
 },
 "nbformat": 4,
 "nbformat_minor": 4
}